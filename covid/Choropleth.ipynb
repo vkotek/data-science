{
 "cells": [
  {
   "cell_type": "markdown",
   "metadata": {},
   "source": [
    "# COVID-19 in the Czech Republic"
   ]
  },
  {
   "cell_type": "code",
   "execution_count": null,
   "metadata": {
    "collapsed": true
   },
   "outputs": [],
   "source": [
    "# Imports\n",
    "import geopandas as gpd\n",
    "import pandas as pd\n",
    "from math import ceil\n",
    "import json\n",
    "import os\n",
    "from datetime import datetime\n",
    "import requests\n",
    "\n",
    "# Bokeh\n",
    "from bokeh.io import output_notebook, show, output_file, export_png\n",
    "from bokeh.plotting import figure\n",
    "from bokeh.models import GeoJSONDataSource, LinearColorMapper, LogColorMapper, ColorBar, LogTicker\n",
    "from bokeh import palettes\n",
    "\n",
    "# Image Processing\n",
    "from PIL import Image, ImageDraw, ImageFont"
   ]
  },
  {
   "cell_type": "code",
   "execution_count": null,
   "metadata": {
    "collapsed": true
   },
   "outputs": [],
   "source": [
    "# Sources\n",
    "covid_data_source = \"https://onemocneni-aktualne.mzcr.cz/api/v2/covid-19/kraj-okres-nakazeni-vyleceni-umrti.csv\"\n",
    "# looks like they've removed this data set, might have to shift source to another one?\n",
    "\n",
    "covid_data_source = \"https://onemocneni-aktualne.mzcr.cz/api/v2/covid-19/kraj-okres-testy.csv\"\n",
    "covidfile = './sources/kraj-okres-nakazeni-vyleceni-umrti.csv'\n",
    "\n",
    "shapefile = './sources/cz_shapefile/JTSK/SPH_OKRES.shp'"
   ]
  },
  {
   "cell_type": "code",
   "execution_count": null,
   "metadata": {},
   "outputs": [],
   "source": [
    "# Get fresh covid data if file more than 1 day old\n",
    "\n",
    "def hours_since_modified(target):\n",
    "    now = datetime.timestamp(datetime.now())\n",
    "    target = os.stat(target).st_mtime\n",
    "    diff_hours = ( now - target ) / 60 / 60\n",
    "    return round(diff_hours)\n",
    "\n",
    "def download_covid_data(url):\n",
    "    r = requests.get(url)\n",
    "    with open(covidfile, 'w') as f:\n",
    "        f.write(r.text)\n",
    "\n",
    "if not os.path.exists(covidfile) or hours_since_modified(covidfile) < 24:\n",
    "    print('file is {} hours old. Updating file..'.format(hours_since_modified(covidfile)), end=\"\")\n",
    "    download_covid_data(covid_data_source)\n",
    "    size = round(os.path.getsize(covidfile) / (1024*1024), 2)\n",
    "    with open(covidfile) as f:\n",
    "        last_line = f.readlines()[-1]\n",
    "    print('Downloaded {} MB!\\nLast line: {}'.format(size, last_line))"
   ]
  },
  {
   "cell_type": "code",
   "execution_count": null,
   "metadata": {
    "collapsed": true
   },
   "outputs": [],
   "source": [
    "# Load into DataFrames\n",
    "\n",
    "# Read data into Pandas\n",
    "gdf = gpd.read_file(shapefile)[['KOD_LAU1','NAZEV_LAU1','geometry']]\n",
    "df = pd.read_csv(covidfile)\n",
    "\n",
    "# Simplify topology \n",
    "gdf['geometry'] = gdf['geometry'].simplify(300) # Probably need to preserve_topology=True\n",
    "\n",
    "# Drop NaN values\n",
    "df.dropna(inplace=True)"
   ]
  },
  {
   "cell_type": "code",
   "execution_count": null,
   "metadata": {},
   "outputs": [],
   "source": [
    "df"
   ]
  },
  {
   "cell_type": "code",
   "execution_count": null,
   "metadata": {},
   "outputs": [],
   "source": [
    "gdf"
   ]
  },
  {
   "cell_type": "code",
   "execution_count": null,
   "metadata": {
    "collapsed": true
   },
   "outputs": [],
   "source": [
    "# Calculate and add columns with new cases per day and 7 day running sum of new cases\n",
    "\n",
    "df_extended = pd.DataFrame()\n",
    "\n",
    "# iterate through regions\n",
    "for okres in df.okres_lau_kod.unique():\n",
    "    \n",
    "    # Subselect items for current region only\n",
    "    okres_data = df.loc[ df.okres_lau_kod == okres].sort_values('datum')\n",
    "    \n",
    "    # Cases\n",
    "    okres_data['new_cases'] =  okres_data.kumulativni_pocet_nakazenych - okres_data.kumulativni_pocet_nakazenych.shift(1)\n",
    "    okres_data['week_total'] = okres_data['new_cases'].rolling(7).sum()\n",
    "    \n",
    "    # Deaths (WIP)\n",
    "    okres_data['new_deaths'] =  okres_data.kumulativni_pocet_umrti - okres_data.kumulativni_pocet_umrti.shift(1)\n",
    "    okres_data['week_deaths'] = okres_data['new_deaths'].rolling(7).sum()\n",
    "    \n",
    "    df_extended = df_extended.append(okres_data)\n",
    "\n",
    "df_extended.fillna(0, inplace=True)\n",
    "\n",
    "max_cases = ceil( df_extended['week_total'].max() / 1000 ) * 1000\n",
    "max_deaths = ceil( df_extended['week_deaths'].max() / 20 ) * 20"
   ]
  },
  {
   "cell_type": "code",
   "execution_count": null,
   "metadata": {},
   "outputs": [],
   "source": [
    "max_deaths, max_cases"
   ]
  },
  {
   "cell_type": "code",
   "execution_count": null,
   "metadata": {},
   "outputs": [],
   "source": [
    "df_extended.loc[df_extended.datum == \"2021-01-01\"]"
   ]
  },
  {
   "cell_type": "code",
   "execution_count": null,
   "metadata": {},
   "outputs": [],
   "source": [
    "# Iterate over days and export visualisation to PNG\n",
    "for date in df_extended.datum.unique():\n",
    "    \n",
    "    # Limit to one day for now\n",
    "    df_today = df_extended.loc[df_extended['datum'] == str(date)]\n",
    "    \n",
    "    # Merge datasets\n",
    "    merged = gdf.merge(df_today, left_on='KOD_LAU1', right_on='okres_lau_kod')[\n",
    "        ['okres_lau_kod','NAZEV_LAU1','datum','geometry','new_cases','week_total']\n",
    "    ]\n",
    "    \n",
    "    merged_json = json.loads(merged.to_json())\n",
    "    \n",
    "    json_data = json.dumps(merged_json)\n",
    "\n",
    "    # Export JSON to file if ya wanna\n",
    "#     with open('merged_json.json', 'w') as f:\n",
    "#         json.dump(merged_json, f)\n",
    "\n",
    "    geosource = GeoJSONDataSource(geojson = json_data)\n",
    "\n",
    "    # Color palette\n",
    "    palette = palettes.Plasma256\n",
    "\n",
    "    # Invert pallete so that highest number is darkest\n",
    "    palette = palette[::-1]\n",
    "    palette = tuple(list(['#e4e4e4']) + list(palette))\n",
    "\n",
    "    # Instantiate LinearColorMapper that linearly maps numbers in a range, into a sequence of colors.\n",
    "    color_mapper = LinearColorMapper(palette = palette, low = 0, high = max_cases)\n",
    "    color_mapper = LogColorMapper(palette = palette, low = 1e0, high = 1e5)\n",
    "    color_mapper = LogColorMapper(palette = palette, low = 1, high = 10000)\n",
    "\n",
    "    # Define custom tick labels for color bar.\n",
    "#     tick_labels = {'0': '0', '10': '10'}\n",
    "\n",
    "    #Create color bar. \n",
    "    color_bar = ColorBar(color_mapper=color_mapper, label_standoff=8,width = 500, height = 15,\n",
    "    border_line_color='white',location = (0,50), orientation = 'horizontal', ticker=LogTicker())\n",
    "\n",
    "    #Create figure object.\n",
    "    p = figure(title = None, plot_height = 600 , plot_width = 950, toolbar_location = None)\n",
    "    p.xgrid.grid_line_color = None\n",
    "    p.ygrid.grid_line_color = None\n",
    "\n",
    "    p.axis.visible = False\n",
    "\n",
    "    #Add patch renderer to figure. \n",
    "    p.patches('xs','ys', \n",
    "              source = geosource,fill_color = {'field' :'week_total', 'transform' : color_mapper},\n",
    "              line_color = 'white', line_width = 1, fill_alpha = 1)\n",
    "\n",
    "    #Specify figure layout.\n",
    "    p.add_layout(color_bar, 'below')\n",
    "    \n",
    "    # Export to PNG\n",
    "    export_png(p, filename=f'./output/frames/{date}.png')\n",
    "\n",
    "    #Display figure inline in Jupyter Notebook.\n",
    "#     output_notebook()\n",
    "#     show(p)"
   ]
  },
  {
   "cell_type": "markdown",
   "metadata": {},
   "source": [
    "# Add Text and Export to GIF"
   ]
  },
  {
   "cell_type": "code",
   "execution_count": null,
   "metadata": {
    "collapsed": true
   },
   "outputs": [],
   "source": [
    "# Iterate over exported PNGs, add text, combine to GIF\n",
    "\n",
    "frames = []\n",
    "ms_per_frame = 15\n",
    "    \n",
    "for date in df.datum.unique():\n",
    "    img = Image.open(f'./output/frames/{date}.png')\n",
    "    draw = ImageDraw.Draw(img)\n",
    "    \n",
    "    # Add large date title\n",
    "    fnt = ImageFont.truetype('./fonts/Ubuntu-Medium.ttf', size=50)\n",
    "    draw.text((640, 40), date, fill=\"black\", font=fnt)\n",
    "    \n",
    "    # Add title to legend\n",
    "    fnt = ImageFont.truetype('./fonts/Ubuntu-Medium.ttf', size=12)\n",
    "    draw.text((30, 470), \"CZECH REPUBLIC\", fill=\"black\", font=fnt)\n",
    "    \n",
    "    # Add title to legend\n",
    "    fnt = ImageFont.truetype('./fonts/Ubuntu-Medium.ttf', size=12)\n",
    "    draw.text((30, 485), \"NEW CASES OF COVID-19 IN LAST 7 DAYS\", fill=\"black\", font=fnt)\n",
    "\n",
    "    frames.append(img)\n",
    "\n",
    "for i in range(0, round(2000/ms_per_frame)):\n",
    "    frames.append(frames[-1])\n",
    "    \n",
    "# gif_palette = ImagePalette.ImagePalette(mode='HEX', palette=list(palette[:-1]), size=256)\n",
    "    \n",
    "frames[0].save('./output/export_v3_2021-02-01.gif', format='GIF',\n",
    "               append_images=frames[1:], save_all=True, duration=ms_per_frame, \n",
    "               disposal=1)"
   ]
  },
  {
   "cell_type": "code",
   "execution_count": null,
   "metadata": {
    "collapsed": true
   },
   "outputs": [],
   "source": []
  }
 ],
 "metadata": {
  "kernelspec": {
   "display_name": "venv37",
   "language": "python",
   "name": "venv37"
  },
  "language_info": {
   "codemirror_mode": {
    "name": "ipython",
    "version": 3
   },
   "file_extension": ".py",
   "mimetype": "text/x-python",
   "name": "python",
   "nbconvert_exporter": "python",
   "pygments_lexer": "ipython3",
   "version": "3.7.3"
  }
 },
 "nbformat": 4,
 "nbformat_minor": 2
}
